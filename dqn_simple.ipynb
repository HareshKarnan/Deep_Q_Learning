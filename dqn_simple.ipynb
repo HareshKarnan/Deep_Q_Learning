{
 "cells": [
  {
   "cell_type": "code",
   "execution_count": 1,
   "metadata": {},
   "outputs": [
    {
     "name": "stderr",
     "output_type": "stream",
     "text": [
      "Using TensorFlow backend.\n"
     ]
    }
   ],
   "source": [
    "import gym\n",
    "from collections import deque\n",
    "from keras.models import Sequential\n",
    "from keras.layers import Dense\n",
    "from keras.optimizers import Adam\n",
    "import numpy as np\n",
    "import random"
   ]
  },
  {
   "cell_type": "code",
   "execution_count": null,
   "metadata": {},
   "outputs": [],
   "source": [
    "EPISODES = 1000"
   ]
  },
  {
   "cell_type": "code",
   "execution_count": null,
   "metadata": {},
   "outputs": [
    {
     "name": "stdout",
     "output_type": "stream",
     "text": [
      "episode: 0/1000, score: 29, e: 1.0\n",
      "episode: 1/1000, score: 22, e: 1.0\n",
      "episode: 2/1000, score: 10, e: 1.0\n",
      "episode: 3/1000, score: 20, e: 0.9\n",
      "episode: 4/1000, score: 15, e: 0.84\n",
      "episode: 5/1000, score: 14, e: 0.78\n",
      "episode: 6/1000, score: 11, e: 0.74\n",
      "episode: 7/1000, score: 10, e: 0.7\n",
      "episode: 8/1000, score: 13, e: 0.66\n",
      "episode: 9/1000, score: 17, e: 0.61\n",
      "episode: 10/1000, score: 22, e: 0.54\n",
      "episode: 11/1000, score: 13, e: 0.51\n",
      "episode: 12/1000, score: 11, e: 0.48\n",
      "episode: 13/1000, score: 32, e: 0.41\n",
      "episode: 14/1000, score: 49, e: 0.32\n",
      "episode: 15/1000, score: 24, e: 0.28\n",
      "episode: 16/1000, score: 14, e: 0.26\n",
      "episode: 17/1000, score: 34, e: 0.22\n",
      "episode: 18/1000, score: 37, e: 0.19\n",
      "episode: 19/1000, score: 112, e: 0.11\n",
      "episode: 20/1000, score: 71, e: 0.074\n",
      "episode: 21/1000, score: 51, e: 0.057\n",
      "episode: 22/1000, score: 98, e: 0.035\n",
      "episode: 23/1000, score: 146, e: 0.017\n",
      "episode: 24/1000, score: 118, e: 0.01\n",
      "episode: 25/1000, score: 115, e: 0.01\n",
      "episode: 26/1000, score: 144, e: 0.01\n",
      "episode: 27/1000, score: 127, e: 0.01\n",
      "episode: 28/1000, score: 108, e: 0.01\n",
      "episode: 29/1000, score: 131, e: 0.01\n",
      "episode: 30/1000, score: 85, e: 0.01\n",
      "episode: 31/1000, score: 155, e: 0.01\n",
      "episode: 32/1000, score: 89, e: 0.01\n",
      "episode: 33/1000, score: 93, e: 0.01\n",
      "episode: 34/1000, score: 180, e: 0.01\n",
      "episode: 35/1000, score: 211, e: 0.01\n",
      "episode: 36/1000, score: 201, e: 0.01\n"
     ]
    }
   ],
   "source": [
    "class DQNAgent:\n",
    "    def __init__(self, state_size, action_size):\n",
    "        self.state_size = state_size\n",
    "        self.action_size = action_size\n",
    "        self.memory = deque(maxlen=2000) # create a deque of max length 2000 for the experience replay buffer\n",
    "        self.gamma = 0.95 # discount rate\n",
    "        self.epsilon = 1.0 # exploration rate\n",
    "        self.epsilon_min = 0.01 \n",
    "        self.epsilon_decay = 0.995\n",
    "        self.learning_rate = 0.001 # learning rate for the optimizer\n",
    "        self.model = self.__build_model()\n",
    "    \n",
    "    # fuction that returns the deep Q learning network model\n",
    "    def __build_model(self):\n",
    "        # Neural net for Deep Q network modelling\n",
    "        model = Sequential()\n",
    "        model.add(Dense(24,input_dim = self.state_size,activation='relu'))\n",
    "        model.add(Dense(24,activation='relu'))\n",
    "        model.add(Dense(self.action_size,activation='linear'))\n",
    "        model.compile(loss='mse',optimizer = Adam(lr=self.learning_rate))\n",
    "        return model\n",
    "    \n",
    "    def remember(self,state,action,reward,next_state,done):\n",
    "        self.memory.append((state,action,reward,next_state,done))\n",
    "    \n",
    "    # predict the action\n",
    "    def act(self,state):\n",
    "        # epsilon-greedy method. with prob eps/k select an action to explore\n",
    "        if np.random.rand()<=self.epsilon:\n",
    "            return random.randrange(self.action_size)\n",
    "        act_values = self.model.predict(state)\n",
    "        return np.argmax(act_values[0]) # why the [0] ? check later\n",
    "    \n",
    "    def replay(self,batch_size):\n",
    "        minibatch = random.sample(self.memory,batch_size)\n",
    "        for state,action,reward,next_state,done in minibatch:\n",
    "            if done:\n",
    "                target = reward\n",
    "            if not done:\n",
    "                target = reward+self.gamma*np.amax(self.model.predict(next_state)[0])\n",
    "            target_f = self.model.predict(state)\n",
    "            target_f[0][action] = target\n",
    "            self.model.fit(state,target_f,epochs=1,verbose=0)\n",
    "        if self.epsilon > self.epsilon_min:\n",
    "            self.epsilon *= self.epsilon_decay\n",
    "    \n",
    "    \n",
    "    # load weights of the model from file\n",
    "    def load(self,name):\n",
    "        self.model.load_weights(name)\n",
    "    \n",
    "    def save(self,name):\n",
    "        self.model.save_weights(name)\n",
    "        \n",
    "    \n",
    "if __name__ == \"__main__\":\n",
    "    env = gym.make('CartPole-v1')\n",
    "    state_size = env.observation_space.shape[0]\n",
    "    action_size = env.action_space.n\n",
    "    agent = DQNAgent(state_size,action_size)\n",
    "    done = False\n",
    "    batch_size = 64\n",
    "    \n",
    "    for e in range(EPISODES):\n",
    "        state = env.reset()\n",
    "        state = np.reshape(state,[1,state_size])\n",
    "        for time in range(500):\n",
    "            env.render()\n",
    "            action = agent.act(state)\n",
    "            next_state,reward,done,_= env.step(action)\n",
    "            reward = reward if not done else -10\n",
    "            next_state = np.reshape(next_state,[1,state_size])\n",
    "            agent.remember(state,action,reward,next_state,done)\n",
    "            state = next_state\n",
    "            if done:\n",
    "                print(\"episode: {}/{}, score: {}, e: {:.2}\"\n",
    "                      .format(e, EPISODES, time, agent.epsilon))\n",
    "                break\n",
    "            if len(agent.memory)>batch_size:\n",
    "                agent.replay(batch_size)\n",
    "        if e%10==0:\n",
    "            agent.save(\"cartpole-v1-dqn.h5\")\n",
    "    "
   ]
  },
  {
   "cell_type": "code",
   "execution_count": null,
   "metadata": {},
   "outputs": [],
   "source": []
  }
 ],
 "metadata": {
  "kernelspec": {
   "display_name": "Python 3",
   "language": "python",
   "name": "python3"
  },
  "language_info": {
   "codemirror_mode": {
    "name": "ipython",
    "version": 3
   },
   "file_extension": ".py",
   "mimetype": "text/x-python",
   "name": "python",
   "nbconvert_exporter": "python",
   "pygments_lexer": "ipython3",
   "version": "3.6.7"
  }
 },
 "nbformat": 4,
 "nbformat_minor": 2
}
