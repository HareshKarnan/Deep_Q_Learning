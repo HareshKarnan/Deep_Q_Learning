{
 "cells": [
  {
   "cell_type": "code",
   "execution_count": 1,
   "metadata": {},
   "outputs": [
    {
     "name": "stderr",
     "output_type": "stream",
     "text": [
      "Using TensorFlow backend.\n"
     ]
    }
   ],
   "source": [
    "import gym\n",
    "from collections import deque\n",
    "from keras.models import Sequential\n",
    "from keras.layers import Dense\n",
    "from keras.optimizers import Adam\n",
    "import numpy as np\n",
    "import random"
   ]
  },
  {
   "cell_type": "code",
   "execution_count": 2,
   "metadata": {},
   "outputs": [],
   "source": [
    "EPISODES = 1000"
   ]
  },
  {
   "cell_type": "code",
   "execution_count": null,
   "metadata": {},
   "outputs": [
    {
     "name": "stdout",
     "output_type": "stream",
     "text": [
      "episode: 0/1000, score: 24, e: 1.0\n",
      "episode: 1/1000, score: 36, e: 1.0\n",
      "episode: 2/1000, score: 12, e: 1.0\n",
      "episode: 3/1000, score: 48, e: 0.89\n",
      "episode: 4/1000, score: 8, e: 0.86\n",
      "episode: 5/1000, score: 85, e: 0.56\n",
      "episode: 6/1000, score: 54, e: 0.43\n",
      "episode: 7/1000, score: 52, e: 0.33\n"
     ]
    }
   ],
   "source": [
    "class DQNAgent:\n",
    "    def __init__(self, state_size, action_size):\n",
    "        self.state_size = state_size\n",
    "        self.action_size = action_size\n",
    "        self.memory = deque(maxlen=2000) # create a deque of max length 2000 for the experience replay buffer\n",
    "        self.gamma = 0.95 # discount rate\n",
    "        self.epsilon = 1.0 # exploration rate\n",
    "        self.epsilon_min = 0.01 \n",
    "        self.epsilon_decay = 0.995\n",
    "        self.learning_rate = 0.001 # learning rate for the optimizer\n",
    "        self.model = self.__build_model()\n",
    "    \n",
    "    # fuction that returns the deep Q learning network model\n",
    "    def __build_model(self):\n",
    "        # Neural net for Deep Q network modelling\n",
    "        model = Sequential()\n",
    "        model.add(Dense(24,input_dim = self.state_size,activation='relu'))\n",
    "        model.add(Dense(24,activation='relu'))\n",
    "        model.add(Dense(self.action_size,activation='linear'))\n",
    "        model.compile(loss='mse',optimizer = Adam(lr=self.learning_rate))\n",
    "        return model\n",
    "    \n",
    "    def remember(self,state,action,reward,next_state,done):\n",
    "        self.memory.append((state,action,reward,next_state,done))\n",
    "    \n",
    "    # predict the action\n",
    "    def act(self,state):\n",
    "        # epsilon-greedy method. with prob eps/k select an action to explore\n",
    "        if np.random.rand()<=self.epsilon:\n",
    "            return random.randrange(self.action_size)\n",
    "        act_values = self.model.predict(state)\n",
    "        return np.argmax(act_values[0]) # why the [0] ? check later\n",
    "    \n",
    "    def replay(self,batch_size):\n",
    "        minibatch = random.sample(self.memory,batch_size)\n",
    "        for state,action,reward,next_state,done in minibatch:\n",
    "            if done:\n",
    "                target = reward\n",
    "            if not done:\n",
    "                target = reward+self.gamma*np.amax(self.model.predict(next_state)[0])\n",
    "            target_f = self.model.predict(state)\n",
    "            target_f[0][action] = target\n",
    "            self.model.fit(state,target_f,epochs=1,verbose=0)\n",
    "        if self.epsilon > self.epsilon_min:\n",
    "            self.epsilon *= self.epsilon_decay\n",
    "    \n",
    "    \n",
    "    # load weights of the model from file\n",
    "    def load(self,name):\n",
    "        self.model.load_weights(name)\n",
    "    \n",
    "    def save(self,name):\n",
    "        self.model.save_weights(name)\n",
    "        \n",
    "    \n",
    "if __name__ == \"__main__\":\n",
    "    env = gym.make('CartPole-v1')\n",
    "    state_size = env.observation_space.shape[0]\n",
    "    action_size = env.action_space.n\n",
    "    agent = DQNAgent(state_size,action_size)\n",
    "    done = False\n",
    "    batch_size = 64\n",
    "    \n",
    "    for e in range(EPISODES):\n",
    "        state = env.reset()\n",
    "        state = np.reshape(state,[1,state_size])\n",
    "        for time in range(500):\n",
    "            env.render()\n",
    "            action = agent.act(state)\n",
    "            next_state,reward,done,_= env.step(action)\n",
    "            reward = reward if not done else -10\n",
    "            next_state = np.reshape(next_state,[1,state_size])\n",
    "            agent.remember(state,action,reward,next_state,done)\n",
    "            state = next_state\n",
    "            if done:\n",
    "                print(\"episode: {}/{}, score: {}, e: {:.2}\"\n",
    "                      .format(e, EPISODES, time, agent.epsilon))\n",
    "                break\n",
    "            if len(agent.memory)>batch_size:\n",
    "                agent.replay(batch_size)\n",
    "        if e%10==0:\n",
    "            agent.save(\"cartpole-v1-dqn.h5\")\n",
    "    "
   ]
  },
  {
   "cell_type": "code",
   "execution_count": null,
   "metadata": {},
   "outputs": [],
   "source": []
  }
 ],
 "metadata": {
  "kernelspec": {
   "display_name": "Python 3",
   "language": "python",
   "name": "python3"
  },
  "language_info": {
   "codemirror_mode": {
    "name": "ipython",
    "version": 3
   },
   "file_extension": ".py",
   "mimetype": "text/x-python",
   "name": "python",
   "nbconvert_exporter": "python",
   "pygments_lexer": "ipython3",
   "version": "3.6.0"
  }
 },
 "nbformat": 4,
 "nbformat_minor": 2
}
